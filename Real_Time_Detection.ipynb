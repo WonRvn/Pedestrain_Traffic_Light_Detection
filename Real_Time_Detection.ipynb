{
 "cells": [
  {
   "cell_type": "markdown",
   "metadata": {},
   "source": [
    "## **Using Mobile Phone**"
   ]
  },
  {
   "cell_type": "code",
   "execution_count": 1,
   "metadata": {},
   "outputs": [
    {
     "ename": "OSError",
     "evalue": "Cannot open phone's camera",
     "output_type": "error",
     "traceback": [
      "\u001b[1;31m---------------------------------------------------------------------------\u001b[0m",
      "\u001b[1;31mOSError\u001b[0m                                   Traceback (most recent call last)",
      "Cell \u001b[1;32mIn[1], line 21\u001b[0m\n\u001b[0;32m     19\u001b[0m \u001b[38;5;66;03m# Ensure the camera feed opened correctly\u001b[39;00m\n\u001b[0;32m     20\u001b[0m \u001b[38;5;28;01mif\u001b[39;00m \u001b[38;5;129;01mnot\u001b[39;00m cap\u001b[38;5;241m.\u001b[39misOpened():\n\u001b[1;32m---> 21\u001b[0m     \u001b[38;5;28;01mraise\u001b[39;00m \u001b[38;5;167;01mIOError\u001b[39;00m(\u001b[38;5;124m\"\u001b[39m\u001b[38;5;124mCannot open phone\u001b[39m\u001b[38;5;124m'\u001b[39m\u001b[38;5;124ms camera\u001b[39m\u001b[38;5;124m\"\u001b[39m)\n\u001b[0;32m     23\u001b[0m \u001b[38;5;28;01mwhile\u001b[39;00m \u001b[38;5;28;01mTrue\u001b[39;00m:\n\u001b[0;32m     24\u001b[0m     ret, frame \u001b[38;5;241m=\u001b[39m cap\u001b[38;5;241m.\u001b[39mread()\n",
      "\u001b[1;31mOSError\u001b[0m: Cannot open phone's camera"
     ]
    }
   ],
   "source": [
    "import cv2\n",
    "from urllib.request import urlopen\n",
    "import numpy as np\n",
    "from ultralytics import YOLO\n",
    "\n",
    "# Define the path to the model weights\n",
    "model_weights = 'runs/detect/train4/weights/best.pt'\n",
    "\n",
    "# Create a YOLO object with the specified model weights and set the confidence threshold\n",
    "yolo = YOLO(model_weights)\n",
    "\n",
    "# Define the IP address and port number of your phone's camera\n",
    "# Replace 'http://192.168.0.100:8080' with your phone's camera IP and port\n",
    "phone_camera_url = 'http://192.168.0.104:8080/video'\n",
    "\n",
    "# Open a handle to the phone's camera feed\n",
    "cap = cv2.VideoCapture(phone_camera_url)\n",
    "\n",
    "# Ensure the camera feed opened correctly\n",
    "if not cap.isOpened():\n",
    "    raise IOError(\"Cannot open phone's camera\")\n",
    "\n",
    "while True:\n",
    "    ret, frame = cap.read()\n",
    "    if not ret:\n",
    "        print(\"Failed to grab frame\")\n",
    "        break\n",
    "    \n",
    "    # Perform detection\n",
    "    results = yolo.track(source=0, show=True, tracker='bytetrack.yaml')\n",
    "\n",
    "    # The correct way to access detections is results.xyxy[0] for the first image\n",
    "    detections = results[0]  # This should now properly contain the detections\n",
    "\n",
    "    # Check if there are any detections\n",
    "    if len(detections) > 0:\n",
    "        for detection in detections:\n",
    "            x1, y1, x2, y2, conf, class_id = detection.cpu().numpy()\n",
    "            label = yolo.names[int(class_id)]\n",
    "            \n",
    "            # Filter for specific classes (e.g., traffic lights)\n",
    "            if label in ['red_pedestrian_light', 'green_pedestrian_light']:  # Adjust these labels as per your model's output\n",
    "                # Draw bounding box and label on the frame\n",
    "                cv2.rectangle(frame, (int(x1), int(y1)), (int(x2), int(y2)), (0, 255, 0), 2)\n",
    "                cv2.putText(frame, f\"{label} {conf:.2f}\", (int(x1), int(y1) - 10), cv2.FONT_HERSHEY_SIMPLEX, 0.5, (0, 255, 0), 2)\n",
    "\n",
    "    # Display the frame with detections\n",
    "    cv2.imshow('Real-time Traffic Light Detection', frame)\n",
    "\n",
    "    # Break the loop if 'q' is pressed\n",
    "    if cv2.waitKey(1) & 0xFF == ord('q'):\n",
    "        break\n",
    "\n",
    "# Release the VideoCapture object and close all windows\n",
    "cap.release()\n",
    "cv2.destroyAllWindows()\n"
   ]
  },
  {
   "cell_type": "code",
   "execution_count": null,
   "metadata": {},
   "outputs": [],
   "source": []
  }
 ],
 "metadata": {
  "kernelspec": {
   "display_name": "Python 3",
   "language": "python",
   "name": "python3"
  },
  "language_info": {
   "codemirror_mode": {
    "name": "ipython",
    "version": 3
   },
   "file_extension": ".py",
   "mimetype": "text/x-python",
   "name": "python",
   "nbconvert_exporter": "python",
   "pygments_lexer": "ipython3",
   "version": "3.9.13"
  }
 },
 "nbformat": 4,
 "nbformat_minor": 2
}
