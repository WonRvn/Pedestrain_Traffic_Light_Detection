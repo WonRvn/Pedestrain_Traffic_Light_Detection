{
 "cells": [
  {
   "cell_type": "markdown",
   "metadata": {},
   "source": [
    "## **Inference with Custom Model**"
   ]
  },
  {
   "cell_type": "code",
   "execution_count": null,
   "metadata": {},
   "outputs": [],
   "source": [
    "# %pip install openvino-dev\n",
    "# %pip install pyttsx3 --upgrade"
   ]
  },
  {
   "cell_type": "code",
   "execution_count": null,
   "metadata": {},
   "outputs": [],
   "source": [
    "from ultralytics import YOLO\n",
    "\n",
    "# Define the path to the model weights and the source directory of images\n",
    "model_weights = 'runs/detect/train/weights/best.pt'\n",
    "source_images = \"C:/Users/wonha/OneDrive/Desktop/Wonha/UNIV/Personal_Projects/Pedestrain_Traffic_Light/Pedestrian Lights.v1i.yolov8/test/images\"\n",
    "\n",
    "# Create a YOLO object with the specified model weights and set the confidence threshold\n",
    "yolo = YOLO(model_weights)\n",
    "\n",
    "# Run detection on the source images\n",
    "results = yolo.predict(source=source_images)"
   ]
  },
  {
   "cell_type": "code",
   "execution_count": null,
   "metadata": {},
   "outputs": [],
   "source": [
    "# %pip install opencv-python-headless\n",
    "# %pip install lap\n",
    "# %pip install pafy\n",
    "# %pip install youtube-dl"
   ]
  },
  {
   "cell_type": "code",
   "execution_count": null,
   "metadata": {},
   "outputs": [],
   "source": [
    "import pyttsx3\n",
    "engine = pyttsx3.init()\n",
    "engine.say(\"테스트 메시지\")\n",
    "engine.runAndWait()"
   ]
  },
  {
   "cell_type": "code",
   "execution_count": 1,
   "metadata": {},
   "outputs": [
    {
     "name": "stdout",
     "output_type": "stream",
     "text": [
      "\n",
      "0: 480x640 (no detections), 140.3ms\n",
      "Speed: 2.0ms preprocess, 140.3ms inference, 1.5ms postprocess per image at shape (1, 3, 480, 640)\n"
     ]
    },
    {
     "ename": "AttributeError",
     "evalue": "'list' object has no attribute 'pandas'",
     "output_type": "error",
     "traceback": [
      "\u001b[1;31m---------------------------------------------------------------------------\u001b[0m",
      "\u001b[1;31mAttributeError\u001b[0m                            Traceback (most recent call last)",
      "Cell \u001b[1;32mIn[1], line 38\u001b[0m\n\u001b[0;32m     35\u001b[0m detections \u001b[38;5;241m=\u001b[39m results[\u001b[38;5;241m0\u001b[39m]\n\u001b[0;32m     37\u001b[0m \u001b[38;5;66;03m# Simplify the extraction of detected labels from tracking results\u001b[39;00m\n\u001b[1;32m---> 38\u001b[0m detected_labels \u001b[38;5;241m=\u001b[39m [detection[\u001b[38;5;124m'\u001b[39m\u001b[38;5;124mclass\u001b[39m\u001b[38;5;124m'\u001b[39m] \u001b[38;5;28;01mfor\u001b[39;00m detection \u001b[38;5;129;01min\u001b[39;00m \u001b[43mresults\u001b[49m\u001b[38;5;241;43m.\u001b[39;49m\u001b[43mpandas\u001b[49m()\u001b[38;5;241m.\u001b[39mxyxy[\u001b[38;5;241m0\u001b[39m]\u001b[38;5;241m.\u001b[39mto_dict(orient\u001b[38;5;241m=\u001b[39m\u001b[38;5;124m\"\u001b[39m\u001b[38;5;124mrecords\u001b[39m\u001b[38;5;124m\"\u001b[39m) \u001b[38;5;28;01mif\u001b[39;00m detection[\u001b[38;5;124m'\u001b[39m\u001b[38;5;124mconfidence\u001b[39m\u001b[38;5;124m'\u001b[39m] \u001b[38;5;241m>\u001b[39m\u001b[38;5;241m=\u001b[39m \u001b[38;5;241m0.7\u001b[39m]\n\u001b[0;32m     40\u001b[0m \u001b[38;5;66;03m# Determine the most frequent label(s)\u001b[39;00m\n\u001b[0;32m     41\u001b[0m \u001b[38;5;28;01mif\u001b[39;00m detected_labels:\n",
      "\u001b[1;31mAttributeError\u001b[0m: 'list' object has no attribute 'pandas'"
     ]
    }
   ],
   "source": [
    "import cv2\n",
    "from ultralytics import YOLO\n",
    "import pyttsx3\n",
    "\n",
    "# Load your trained model\n",
    "model = YOLO('runs/detect/train/weights/best.pt')\n",
    "\n",
    "# Initialize the text-to-speech engine\n",
    "engine = pyttsx3.init()\n",
    "\n",
    "# Open a handle to the default webcam\n",
    "cap = cv2.VideoCapture(0)\n",
    "\n",
    "def speak(text):\n",
    "    print(f\"Speaking: {text}\")\n",
    "    engine.say(text)\n",
    "    engine.runAndWait()\n",
    "\n",
    "# Ensure the webcam opened correctly\n",
    "if not cap.isOpened():\n",
    "    raise IOError(\"Cannot open webcam\")\n",
    "\n",
    "ret = True\n",
    "\n",
    "while ret:\n",
    "    ret, frame = cap.read()\n",
    "    if not ret:\n",
    "        print(\"Failed to grab frame\")\n",
    "        break\n",
    "\n",
    "    # Perform detection\n",
    "    results = model.track(frame, persist=True, conf=0.7)\n",
    "\n",
    "    # Convert the result tensor to a list\n",
    "    detections = results[0]\n",
    "\n",
    "    # print(detections)\n",
    "\n",
    "    # Display the frame with detections\n",
    "    cv2.imshow('Real-time Traffic Light Detection', detections.plot())\n",
    "\n",
    "    # Speak the traffic light color\n",
    "    if detections.boxes.id is not None:    \n",
    "        labels = list(detections.names.keys()) # Get the list of labels\n",
    "        print(\"Detected labels:\", labels)  # Debugging line\n",
    "        if '0' in labels: # Check if label '0' is present\n",
    "            speak(\"초록불 탐지\")\n",
    "        elif '1' in labels: # Check if label '1' is present\n",
    "            speak(\"빨간불 탐지\")\n",
    "\n",
    "    # Break the loop if 'q' is pressed\n",
    "    if cv2.waitKey(1) & 0xFF == ord('q'):\n",
    "        break\n",
    "\n",
    "# Release the VideoCapture object and close all windows\n",
    "cap.release()\n",
    "cv2.destroyAllWindows()\n"
   ]
  },
  {
   "cell_type": "code",
   "execution_count": null,
   "metadata": {},
   "outputs": [],
   "source": []
  }
 ],
 "metadata": {
  "kernelspec": {
   "display_name": "Python 3",
   "language": "python",
   "name": "python3"
  },
  "language_info": {
   "codemirror_mode": {
    "name": "ipython",
    "version": 3
   },
   "file_extension": ".py",
   "mimetype": "text/x-python",
   "name": "python",
   "nbconvert_exporter": "python",
   "pygments_lexer": "ipython3",
   "version": "3.9.13"
  }
 },
 "nbformat": 4,
 "nbformat_minor": 2
}
